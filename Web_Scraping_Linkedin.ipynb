{
 "cells": [
  {
   "cell_type": "code",
   "execution_count": 171,
   "metadata": {},
   "outputs": [
    {
     "name": "stdout",
     "output_type": "stream",
     "text": [
      "Requirement already satisfied: selenium in c:\\users\\mathe\\appdata\\local\\programs\\python\\python311\\lib\\site-packages (4.19.0)\n",
      "Requirement already satisfied: urllib3[socks]<3,>=1.26 in c:\\users\\mathe\\appdata\\local\\programs\\python\\python311\\lib\\site-packages (from selenium) (2.0.3)\n",
      "Requirement already satisfied: trio~=0.17 in c:\\users\\mathe\\appdata\\local\\programs\\python\\python311\\lib\\site-packages (from selenium) (0.25.0)\n",
      "Requirement already satisfied: trio-websocket~=0.9 in c:\\users\\mathe\\appdata\\local\\programs\\python\\python311\\lib\\site-packages (from selenium) (0.11.1)\n",
      "Requirement already satisfied: certifi>=2021.10.8 in c:\\users\\mathe\\appdata\\local\\programs\\python\\python311\\lib\\site-packages (from selenium) (2023.5.7)\n",
      "Requirement already satisfied: typing_extensions>=4.9.0 in c:\\users\\mathe\\appdata\\local\\programs\\python\\python311\\lib\\site-packages (from selenium) (4.11.0)\n",
      "Requirement already satisfied: attrs>=23.2.0 in c:\\users\\mathe\\appdata\\local\\programs\\python\\python311\\lib\\site-packages (from trio~=0.17->selenium) (23.2.0)\n",
      "Requirement already satisfied: sortedcontainers in c:\\users\\mathe\\appdata\\local\\programs\\python\\python311\\lib\\site-packages (from trio~=0.17->selenium) (2.4.0)\n",
      "Requirement already satisfied: idna in c:\\users\\mathe\\appdata\\local\\programs\\python\\python311\\lib\\site-packages (from trio~=0.17->selenium) (3.4)\n",
      "Requirement already satisfied: outcome in c:\\users\\mathe\\appdata\\local\\programs\\python\\python311\\lib\\site-packages (from trio~=0.17->selenium) (1.3.0.post0)\n",
      "Requirement already satisfied: sniffio>=1.3.0 in c:\\users\\mathe\\appdata\\local\\programs\\python\\python311\\lib\\site-packages (from trio~=0.17->selenium) (1.3.1)\n",
      "Requirement already satisfied: cffi>=1.14 in c:\\users\\mathe\\appdata\\local\\programs\\python\\python311\\lib\\site-packages (from trio~=0.17->selenium) (1.16.0)\n",
      "Requirement already satisfied: wsproto>=0.14 in c:\\users\\mathe\\appdata\\local\\programs\\python\\python311\\lib\\site-packages (from trio-websocket~=0.9->selenium) (1.2.0)\n",
      "Requirement already satisfied: pysocks!=1.5.7,<2.0,>=1.5.6 in c:\\users\\mathe\\appdata\\local\\programs\\python\\python311\\lib\\site-packages (from urllib3[socks]<3,>=1.26->selenium) (1.7.1)\n",
      "Requirement already satisfied: pycparser in c:\\users\\mathe\\appdata\\local\\programs\\python\\python311\\lib\\site-packages (from cffi>=1.14->trio~=0.17->selenium) (2.22)\n",
      "Requirement already satisfied: h11<1,>=0.9.0 in c:\\users\\mathe\\appdata\\local\\programs\\python\\python311\\lib\\site-packages (from wsproto>=0.14->trio-websocket~=0.9->selenium) (0.14.0)\n"
     ]
    },
    {
     "name": "stderr",
     "output_type": "stream",
     "text": [
      "\n",
      "[notice] A new release of pip is available: 23.1.2 -> 24.0\n",
      "[notice] To update, run: python.exe -m pip install --upgrade pip\n"
     ]
    }
   ],
   "source": [
    "!pip install selenium"
   ]
  },
  {
   "cell_type": "code",
   "execution_count": 172,
   "metadata": {},
   "outputs": [
    {
     "name": "stdout",
     "output_type": "stream",
     "text": [
      "Requirement already satisfied: bs4 in c:\\users\\mathe\\appdata\\local\\programs\\python\\python311\\lib\\site-packages (0.0.2)Note: you may need to restart the kernel to use updated packages.\n",
      "\n",
      "Requirement already satisfied: beautifulsoup4 in c:\\users\\mathe\\appdata\\local\\programs\\python\\python311\\lib\\site-packages (from bs4) (4.12.3)\n",
      "Requirement already satisfied: soupsieve>1.2 in c:\\users\\mathe\\appdata\\local\\programs\\python\\python311\\lib\\site-packages (from beautifulsoup4->bs4) (2.5)\n"
     ]
    },
    {
     "name": "stderr",
     "output_type": "stream",
     "text": [
      "\n",
      "[notice] A new release of pip is available: 23.1.2 -> 24.0\n",
      "[notice] To update, run: python.exe -m pip install --upgrade pip\n"
     ]
    }
   ],
   "source": [
    "pip install bs4"
   ]
  },
  {
   "cell_type": "code",
   "execution_count": 173,
   "metadata": {},
   "outputs": [],
   "source": [
    "from selenium.webdriver.firefox.firefox_profile import FirefoxProfile\n",
    "from selenium.webdriver.firefox.options import Options\n",
    "from selenium.webdriver.common.by import By\n",
    "from selenium import webdriver\n",
    "from bs4 import BeautifulSoup\n",
    "\n",
    "import requests\n",
    "import time\n",
    "import re"
   ]
  },
  {
   "cell_type": "code",
   "execution_count": 174,
   "metadata": {},
   "outputs": [],
   "source": [
    "options = webdriver.FirefoxOptions()\n",
    "\n",
    "# options.add_argument(\"-headless\")\n",
    "firefox_profile = FirefoxProfile()\n",
    "firefox_profile.set_preference(\"javascript.enabled\", False)\n",
    "driver = webdriver.Firefox(options=options)"
   ]
  },
  {
   "cell_type": "code",
   "execution_count": 175,
   "metadata": {},
   "outputs": [],
   "source": [
    "# LINK DO SITE\n",
    "url = 'https://www.linkedin.com/in/matheus-rodrigues-106319b7/'\n",
    "\n",
    "# ABRIR WEBDRIVER\n",
    "driver.get(url)\n",
    "\n",
    "time.sleep(5)"
   ]
  },
  {
   "cell_type": "code",
   "execution_count": 176,
   "metadata": {},
   "outputs": [],
   "source": [
    "# xpath = f'//icon[@class=\"contextual-sign-in-modal__modal-dismiss-icon lazy-loaded\"]//svg[@class=\"artdeco-icon lazy-loaded\"]'\n",
    "# xpath = f'//section[@class=\"max-h-full modal__wrapper overflow-auto p-0 bg-color-surface max-w-[1128px] min-h-[160px] relative scale-[0.25] shadow-sm shadow-color-border-faint transition-[transform] ease-[cubic-bezier(0.25,0.1,0.25,1.0)] duration-[0.33s] focus:outline-0w-[1128px] mamabear:w-[744px] babybear:w-[360px]rounded-md\"]//button[@class=\"modal__dismiss btn-tertiary h-[40px] w-[40px] p-0 rounded-full indent-0contextual-sign-in-modal__modal-dismiss absolute right-0 m-[20px] cursor-pointer\"]'\n",
    "driver.find_element(By.CSS_SELECTOR, \".modal__overlay--visible > section:nth-child(1) > button:nth-child(1) > icon:nth-child(1) > svg:nth-child(1)\").click()"
   ]
  },
  {
   "cell_type": "code",
   "execution_count": 177,
   "metadata": {},
   "outputs": [],
   "source": [
    "html_content  = driver.page_source"
   ]
  },
  {
   "cell_type": "code",
   "execution_count": 178,
   "metadata": {},
   "outputs": [],
   "source": [
    "soup = BeautifulSoup(html_content)"
   ]
  },
  {
   "cell_type": "code",
   "execution_count": 179,
   "metadata": {},
   "outputs": [],
   "source": [
    "divs01 = soup.find_all('a', attrs={\"data-tracking-control-name\":\"public_profile_certification-title\"})\n",
    "divs02 = soup.find_all('div', attrs={\"class\":\"not-first-middot\"})"
   ]
  },
  {
   "cell_type": "code",
   "execution_count": 180,
   "metadata": {},
   "outputs": [],
   "source": [
    "li1=[]\n",
    "for i in divs01:\n",
    "    li1.append(str(i).split('>')[1].strip().split('\\n')[0])"
   ]
  },
  {
   "cell_type": "code",
   "execution_count": 181,
   "metadata": {},
   "outputs": [],
   "source": [
    "count = 0\n",
    "li2=[]\n",
    "for i in divs02:\n",
    "    if count >= 2:\n",
    "        li2.append(str(i).split('>')[3].split(' ')[1].split('<')[0])\n",
    "    count +=1"
   ]
  },
  {
   "cell_type": "code",
   "execution_count": 182,
   "metadata": {},
   "outputs": [],
   "source": [
    "curso=[]\n",
    "for number, item in enumerate(li1):\n",
    "\n",
    "    curso.append(item + ' - ' + str(li2[number]))"
   ]
  },
  {
   "cell_type": "code",
   "execution_count": 183,
   "metadata": {},
   "outputs": [
    {
     "data": {
      "text/plain": [
       "['Databricks: criando um sistema de recomendação - 2024',\n",
       " 'Databricks: análise de dados - 2024',\n",
       " 'Tech Lead: construindo práticas e rotinas de gestão - 2024',\n",
       " 'Profissão Tech Lead: conhecendo a liderança técnica - 2024',\n",
       " 'Databricks e Data Factory: criando e orquestrando pipelines na nuvem - 2023',\n",
       " 'Data Visualization: criando gráficos com bibliotecas Python - 2023',\n",
       " 'Streamlit: construindo um dashboard interativo - 2023',\n",
       " 'Microsoft AZ-900 parte 3: Azure Fundamentals - 2023',\n",
       " 'Microsoft AZ-900 parte 4: Azure Fundamentals - 2023',\n",
       " 'Do Zero a Engenheiro de Dados - Azure - 2023',\n",
       " 'Microsoft AZ-900 parte 2: Azure Fundamentals - 2023',\n",
       " 'Apache Airflow: extração de dados - 2023',\n",
       " 'Apache Airflow: orquestrando seu primeiro pipeline de dados - 2023',\n",
       " 'Azure Cloud: criando um servidor com banco de dados para receber uma aplicação - 2023',\n",
       " 'Microsoft AZ-900 parte 1: Azure Fundamentals - 2023',\n",
       " 'Engenharia de Dados: organizando dados na AWS - 2023',\n",
       " 'Cloud Hero BigQuery Skills - 2022',\n",
       " 'Master Power BI - De A á Z - 2022',\n",
       " 'Data Vizualization on Databricks SQL - 2022',\n",
       " 'Big Data - Processamento de dados com Spark e PySpark - 2022',\n",
       " 'Big Data - Processando dados com Spark Dataframe + Scala - 2022',\n",
       " 'Manipulação e Análise de Dados com Pandas - Python - 2021',\n",
       " 'Python 3 COMPLETO - Do iniciante ao avançado - 2021',\n",
       " 'SQL 2016 - Módulo II - 2021',\n",
       " 'SQL 2016 - Módulo I - 2021',\n",
       " 'Access 2016 - Módulo I - 2020',\n",
       " 'Access 2016 - Módulo II - 2020',\n",
       " 'Excel 2013 VBA - Módulo II - 2017',\n",
       " 'Excel 2013 VBA - Módulo I - 2017',\n",
       " 'Academy Accreditation - SQL Analyst Associate - 2017',\n",
       " 'Academy Accreditation - Databricks Lakehouse Fundamentals - 2017']"
      ]
     },
     "execution_count": 183,
     "metadata": {},
     "output_type": "execute_result"
    }
   ],
   "source": [
    "curso"
   ]
  },
  {
   "cell_type": "code",
   "execution_count": null,
   "metadata": {},
   "outputs": [],
   "source": []
  },
  {
   "cell_type": "code",
   "execution_count": null,
   "metadata": {},
   "outputs": [],
   "source": [
    "li2"
   ]
  },
  {
   "cell_type": "code",
   "execution_count": null,
   "metadata": {},
   "outputs": [],
   "source": [
    "str(divs02[2]).split('>')[3].split(' ')[1].split('<')[0]"
   ]
  },
  {
   "cell_type": "code",
   "execution_count": null,
   "metadata": {},
   "outputs": [],
   "source": [
    "str(divs01[0]).split('>')[1].strip().split('\\n')[0]"
   ]
  },
  {
   "cell_type": "code",
   "execution_count": 170,
   "metadata": {},
   "outputs": [
    {
     "data": {
      "text/plain": [
       "<bound method WebDriver.close of <selenium.webdriver.firefox.webdriver.WebDriver (session=\"8b84ad52-fed3-4de4-9ab2-f418ec32aebe\")>>"
      ]
     },
     "execution_count": 170,
     "metadata": {},
     "output_type": "execute_result"
    }
   ],
   "source": [
    "driver.close"
   ]
  },
  {
   "cell_type": "code",
   "execution_count": null,
   "metadata": {},
   "outputs": [],
   "source": []
  }
 ],
 "metadata": {
  "kernelspec": {
   "display_name": "Python 3",
   "language": "python",
   "name": "python3"
  },
  "language_info": {
   "codemirror_mode": {
    "name": "ipython",
    "version": 3
   },
   "file_extension": ".py",
   "mimetype": "text/x-python",
   "name": "python",
   "nbconvert_exporter": "python",
   "pygments_lexer": "ipython3",
   "version": "3.11.4"
  }
 },
 "nbformat": 4,
 "nbformat_minor": 2
}
